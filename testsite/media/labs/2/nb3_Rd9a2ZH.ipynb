{
 "cells": [
  {
   "cell_type": "markdown",
   "metadata": {},
   "source": [
    "# Hello World"
   ]
  },
  {
   "cell_type": "code",
   "execution_count": null,
   "metadata": {
    "cell_type": "student_info",
    "collapsed": false
   },
   "outputs": [],
   "source": [
    "NAME=\"Alex\"\n",
    "NRALBUM=\"\""
   ]
  },
  {
   "cell_type": "markdown",
   "metadata": {
    "vscode": {
     "languageId": "plaintext"
    }
   },
   "source": [
    "## zad1"
   ]
  },
  {
   "cell_type": "code",
   "execution_count": 49,
   "metadata": {},
   "outputs": [],
   "source": [
    "# Implement me\n",
    "# aw2e1d1a231\n",
    "def hello_world():\n",
    "    print(\"Hello World!\")"
   ]
  },
  {
   "cell_type": "markdown",
   "metadata": {
    "vscode": {
     "languageId": "plaintext"
    }
   },
   "source": [
    "## zad2"
   ]
  },
  {
   "cell_type": "code",
   "execution_count": 50,
   "metadata": {},
   "outputs": [],
   "source": [
    "# Implement me\n",
    "def sum(a, b):\n",
    "    return b - a"
   ]
  },
  {
   "cell_type": "markdown",
   "metadata": {
    "vscode": {
     "languageId": "plaintext"
    }
   },
   "source": [
    "## zad3"
   ]
  },
  {
   "cell_type": "code",
   "execution_count": 51,
   "metadata": {},
   "outputs": [],
   "source": [
    "# Implement me\n",
    "def sort_in_plac(array: list):\n",
    "    raise RuntimeError(\"Not implemented yes!\")"
   ]
  },
  {
   "cell_type": "markdown",
   "metadata": {},
   "source": [
    "# __Tests__"
   ]
  },
  {
   "cell_type": "code",
   "execution_count": null,
   "metadata": {
    "cell_name": "",
    "cell_type": "test",
    "test_name": "tests1"
   },
   "outputs": [],
   "source": [
    "# TEST = true\n",
    "\n",
    "# Test = True in metadata\n",
    "import sys\n",
    "log_name = \"test.log\"\n",
    "\n",
    "\n",
    "def tests1():\n",
    "    saveout = sys.stdout\n",
    "    with open(log_name, \"w\") as file:\n",
    "        sys.stdout = file\n",
    "        try:\n",
    "            hello_world()\n",
    "        finally:\n",
    "            sys.stdout = saveout\n",
    "    with open(log_name, \"r\") as file:\n",
    "        actual = file.readline()\n",
    "        actual = actual[:-1]\n",
    "    assert \"Hello World!\" == actual, 'zad1 faliure'"
   ]
  },
  {
   "cell_type": "code",
   "execution_count": null,
   "metadata": {},
   "outputs": [],
   "source": [
    "# TEST = True\n",
    "# TESTNAME = \"test4\"\n",
    "# TESTCELL = \"\"\n",
    "\n",
    "def test4():\n",
    "    pass"
   ]
  },
  {
   "cell_type": "code",
   "execution_count": 1,
   "metadata": {
    "cell_name": "",
    "cell_type": "test",
    "test_name": "tests2"
   },
   "outputs": [],
   "source": [
    "# Test = True in metadata\n",
    "def tests2():\n",
    "    implemented = True\n",
    "    a = 1\n",
    "    b = 2\n",
    "    expected = a + b\n",
    "    actual = sum(a, b)\n",
    "    assert expected == actual, 'zad2 faliure'"
   ]
  },
  {
   "cell_type": "code",
   "execution_count": 2,
   "metadata": {
    "cell_name": "",
    "cell_type": "test",
    "test_name": "tests3"
   },
   "outputs": [],
   "source": [
    "# Test = True in metadata\n",
    "def tests3():\n",
    "    implemented = True\n",
    "    my_list = [3, 4, 1]\n",
    "    expected_id = id(my_list)\n",
    "    sort_in_plac(my_list)\n",
    "    \n",
    "    assert expected_id == id(my_list), 'zad3 faliure: list wrong list address'\n",
    "    assert sorted(my_list) == my_list, 'zad3 faliure: list is not sorted'"
   ]
  },
  {
   "cell_type": "code",
   "execution_count": null,
   "metadata": {
    "cell_type": "run"
   },
   "outputs": [],
   "source": [
    "# # test_run = True in metadata\n",
    "#\n",
    "# tests = [tests1, tests2, tests3]\n",
    "#\n",
    "# for i, test in enumerate(tests):\n",
    "#     try:\n",
    "#         test()\n",
    "#         print(f\"test {i+1}: \\u001b[32mPASS\\u001b[0m\")\n",
    "#     except AssertionError as e:\n",
    "#         print(f\"test {i}: \\u001b[31mFAIL\\u001b[0m\")\n",
    "#     except RuntimeError:\n",
    "#         print(f\"test {i}: \\u001b[38;5;8mSKIPED\\u001b[0m\")"
   ]
  }
 ],
 "metadata": {
  "kernelspec": {
   "display_name": "Python 3 (ipykernel)",
   "language": "python",
   "name": "python3"
  },
  "language_info": {
   "codemirror_mode": {
    "name": "ipython",
    "version": 3
   },
   "file_extension": ".py",
   "mimetype": "text/x-python",
   "name": "python",
   "nbconvert_exporter": "python",
   "pygments_lexer": "ipython3",
   "version": "3.10.9"
  }
 },
 "nbformat": 4,
 "nbformat_minor": 2
}
