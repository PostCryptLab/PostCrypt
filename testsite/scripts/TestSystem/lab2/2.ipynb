{
 "cells": [
  {
   "cell_type": "markdown",
   "metadata": {},
   "source": [
    "# Hello World"
   ]
  },
  {
   "cell_type": "code",
   "execution_count": null,
   "metadata": {
    "cell_name": "student_info",
    "cell_type": "student_info"
   },
   "outputs": [],
   "source": [
    "\n",
    "NAME=\"Dominik\"\n",
    "NRALBUM=\"\"\n"
   ]
  },
  {
   "cell_type": "markdown",
   "metadata": {
    "vscode": {
     "languageId": "plaintext"
    }
   },
   "source": [
    "## zad1"
   ]
  },
  {
   "cell_type": "code",
   "execution_count": 49,
   "metadata": {
    "cell_name": "helloworld",
    "cell_type": "code"
   },
   "outputs": [],
   "source": [
    "\n",
    "def hello_world():\n",
    "    print(\"Hello World!\")\n"
   ]
  },
  {
   "cell_type": "markdown",
   "metadata": {
    "vscode": {
     "languageId": "plaintext"
    }
   },
   "source": [
    "## zad2"
   ]
  },
  {
   "cell_type": "code",
   "execution_count": 50,
   "metadata": {
    "cell_name": "sum",
    "cell_type": "code"
   },
   "outputs": [],
   "source": [
    "\n",
    "def sum(a, b):\n",
    "    #Implement me\n",
    "    raise NotImplementedError"
   ]
  },
  {
   "cell_type": "markdown",
   "metadata": {
    "vscode": {
     "languageId": "plaintext"
    }
   },
   "source": [
    "## zad3"
   ]
  },
  {
   "cell_type": "code",
   "execution_count": 51,
   "metadata": {
    "cell_name": "sortinplac",
    "cell_type": "code"
   },
   "outputs": [],
   "source": [
    "\n",
    "def sort_in_plac(array: list):\n",
    "    raise RuntimeError(\"Not implemented yet!\")\n"
   ]
  },
  {
   "cell_type": "markdown",
   "metadata": {},
   "source": [
    "# __Tests__"
   ]
  },
  {
   "cell_type": "code",
   "execution_count": 1,
   "metadata": {
    "cell_name": "tests2",
    "cell_type": "test",
    "test": true,
    "test_cell": "",
    "test_name": "tests2"
   },
   "outputs": [],
   "source": [
    "\n",
    "def tests2():\n",
    "    implemented = True\n",
    "    a = 1\n",
    "    b = 2\n",
    "    expected = a + b\n",
    "    actual = sum(a, b)\n",
    "    assert expected == actual, 'zad2 faliure'\n"
   ]
  },
  {
   "cell_type": "code",
   "execution_count": null,
   "metadata": {
    "test_run": true
   },
   "outputs": [],
   "source": [
    "\n"
   ]
  }
 ],
 "metadata": {
  "kernelspec": {
   "display_name": "Python 3 (ipykernel)",
   "language": "python",
   "name": "python3"
  },
  "language_info": {
   "codemirror_mode": {
    "name": "ipython",
    "version": 3
   },
   "file_extension": ".py",
   "mimetype": "text/x-python",
   "name": "python",
   "nbconvert_exporter": "python",
   "pygments_lexer": "ipython3",
   "version": "3.10.9"
  }
 },
 "nbformat": 4,
 "nbformat_minor": 2
}
