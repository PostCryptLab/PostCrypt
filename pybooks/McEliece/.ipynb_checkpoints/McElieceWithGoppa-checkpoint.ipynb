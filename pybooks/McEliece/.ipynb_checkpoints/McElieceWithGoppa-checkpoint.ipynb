{
 "cells": [
  {
   "cell_type": "markdown",
   "metadata": {},
   "source": [
    "# Kryptosystem Classic McEliece"
   ]
  },
  {
   "cell_type": "code",
   "execution_count": null,
   "metadata": {},
   "outputs": [],
   "source": [
    "#troche o kodach korekcyjnych"
   ]
  },
  {
   "cell_type": "markdown",
   "metadata": {},
   "source": [
    "### Kody Goppa\n",
    "Są to kody korekcyjne stosowane wykorzystywane przez kryptosystem McElisse do tworzenia macierzy Generatora. Kody te zakładają że wiadomość szyfrowana ma postać:\n",
    "\n",
    "$w_x(a) = \\sum_{i=1}^{k}*a^{i-1}$\n",
    "\n",
    "Kod Goppa wykorzystuje ciała skońćzone Galios $\\mathbb{F}_{2^n}$ o współcynnikach binarnych."
   ]
  },
  {
   "cell_type": "markdown",
   "metadata": {},
   "source": [
    "poniżej znajdują się Struktua realizująca ciało skończone Galios"
   ]
  },
  {
   "cell_type": "code",
   "execution_count": 5,
   "metadata": {},
   "outputs": [
    {
     "data": {
      "text/plain": [
       "numpy.ndarray"
      ]
     },
     "execution_count": 5,
     "metadata": {},
     "output_type": "execute_result"
    }
   ],
   "source": []
  },
  {
   "cell_type": "code",
   "execution_count": 2,
   "metadata": {},
   "outputs": [
    {
     "name": "stdout",
     "output_type": "stream",
     "text": [
      "x^4 1\n"
     ]
    },
    {
     "data": {
      "text/plain": [
       "1"
      ]
     },
     "execution_count": 2,
     "metadata": {},
     "output_type": "execute_result"
    }
   ],
   "source": [
    "import numpy as np\n",
    "\n",
    "class Zn:\n",
    "    def __init__(self, num, n) -> None:\n",
    "        self.n = n\n",
    "        self.num = num % n\n",
    "    \n",
    "    def __add__(self, other):\n",
    "        if isinstance(other, int) or isinstance(other, np.intc): other = Zn(other, self.n)\n",
    "        return Zn((self.num + other.num), self.n)\n",
    "    \n",
    "    def __sub__(self, other):\n",
    "        if isinstance(other, int): other = Zn(other, self.n)\n",
    "        return Zn((self.num - other.num + self.n), self.n)\n",
    "    \n",
    "    def __mul__(self, other):\n",
    "        if isinstance(other, int): other = Zn(other, self.n)\n",
    "        return Zn((self.num * other.num), self.n)\n",
    "    \n",
    "    def __str__(self) -> str:\n",
    "        return f\"{self.num}\"\n",
    "\n",
    "    def __repr__(self) -> str:\n",
    "        return f\"Z{self.n}.{self.num}\"\n",
    "    \n",
    "    def prim_root(self):\n",
    "        all_needed = {1}\n",
    "        for m in range(2, self.n):\n",
    "            if gcd(m,self.n) == 1:\n",
    "                all_needed.add(m)\n",
    "        \n",
    "        for m in range(2,self.n):\n",
    "            if gcd(m,self.n) != 1:\n",
    "                continue\n",
    "            start_num = 1\n",
    "            numbers = {1}\n",
    "\n",
    "            next_num = m\n",
    "\n",
    "            while next_num != 1:\n",
    "                numbers.add(next_num)\n",
    "                next_num *= m\n",
    "                next_num %= self.n\n",
    "\n",
    "            if all_needed == numbers:\n",
    "                return m\n",
    "        return 0\n",
    "\n",
    "class Poly:\n",
    "    def __init__(self, n:int, T:np.ndarray):\n",
    "        self.n = n\n",
    "        if len(T) > n:\n",
    "            for i in range(n, len(T)):\n",
    "                T[i % n] += T[i]\n",
    "        else:\n",
    "            T = np.pad(T, (0, n - len(T)), 'constant')\n",
    "        \n",
    "        self.T = T[:n] % 2\n",
    "\n",
    "    def val(self, x:int):\n",
    "        ans = Zn(0, self.n)\n",
    "        for power, coeff in enumerate(self.T):\n",
    "            ans = ans + coeff * (x ** power)\n",
    "        return ans.num\n",
    "\n",
    "    def __str__(self):\n",
    "        terms = []\n",
    "        for power, coeff in enumerate(self.T):\n",
    "            if coeff != 0:\n",
    "                if power == 0:\n",
    "                    terms.append(\"1\")\n",
    "                elif power == 1:\n",
    "                    terms.append(\"x\")\n",
    "                else:\n",
    "                    terms.append(f\"x^{power}\")\n",
    "        \n",
    "        if not terms:\n",
    "            return \"0\"\n",
    "        else:\n",
    "            return \" + \".join(terms)\n",
    "    \n",
    "    def __repr__(self) -> str:\n",
    "        return self.__str__()\n",
    "\n",
    "p = Poly(5, np.array([1, 1, 1, 1,0,1,1,0,1,1,0,0,1]))\n",
    "print(p, p.val(1))\n",
    "\n",
    "wspolczynniki = np.array([1, 1, 0, 1])\n",
    "wielomian = Poly(2, wspolczynniki)\n",
    "wielomian\n",
    "\n"
   ]
  },
  {
   "cell_type": "markdown",
   "metadata": {},
   "source": [
    "## Generowanie kluczy"
   ]
  },
  {
   "cell_type": "code",
   "execution_count": 4,
   "metadata": {},
   "outputs": [
    {
     "name": "stdout",
     "output_type": "stream",
     "text": [
      "Collecting mathutils\n",
      "  Downloading mathutils-3.3.0.tar.gz (245 kB)\n",
      "     -------------------------------------- 245.4/245.4 kB 3.0 MB/s eta 0:00:00\n",
      "  Preparing metadata (setup.py): started\n",
      "  Preparing metadata (setup.py): finished with status 'done'\n",
      "Building wheels for collected packages: mathutils\n",
      "  Building wheel for mathutils (setup.py): started\n",
      "  Building wheel for mathutils (setup.py): finished with status 'done'\n",
      "  Created wheel for mathutils: filename=mathutils-3.3.0-cp310-cp310-win_amd64.whl size=100523 sha256=30a7081305c35ee65cd3c07b7047544450aa503d04c15786f092b538cffe49e6\n",
      "  Stored in directory: c:\\users\\ivanz\\appdata\\local\\pip\\cache\\wheels\\b7\\6b\\42\\1ff5f16ba6189b674b71b6b5d161809ae733fac6e3a3365ed7\n",
      "Successfully built mathutils\n",
      "Installing collected packages: mathutils\n",
      "Successfully installed mathutils-3.3.0\n"
     ]
    },
    {
     "name": "stderr",
     "output_type": "stream",
     "text": [
      "WARNING: Ignoring invalid distribution -atplotlib (c:\\users\\ivanz\\anaconda3\\lib\\site-packages)\n",
      "WARNING: Ignoring invalid distribution -atplotlib (c:\\users\\ivanz\\anaconda3\\lib\\site-packages)\n",
      "WARNING: Ignoring invalid distribution -atplotlib (c:\\users\\ivanz\\anaconda3\\lib\\site-packages)\n",
      "WARNING: Ignoring invalid distribution -atplotlib (c:\\users\\ivanz\\anaconda3\\lib\\site-packages)\n",
      "WARNING: Ignoring invalid distribution -atplotlib (c:\\users\\ivanz\\anaconda3\\lib\\site-packages)\n",
      "WARNING: Ignoring invalid distribution -atplotlib (c:\\users\\ivanz\\anaconda3\\lib\\site-packages)\n",
      "WARNING: Ignoring invalid distribution -atplotlib (c:\\users\\ivanz\\anaconda3\\lib\\site-packages)\n"
     ]
    }
   ],
   "source": [
    "!pip install mathutils"
   ]
  },
  {
   "cell_type": "code",
   "execution_count": 5,
   "metadata": {},
   "outputs": [],
   "source": [
    "from mathutils import *\n",
    "from sympy.polys.galoistools import gf_irreducible, gf_irreducible_p\n",
    "from sympy import lcm, ZZ\n",
    "from sympy.abc import x, alpha\n",
    "from sympy import Matrix\n",
    "import logging\n",
    "\n",
    "log = logging.getLogger(\"goppacodegenerator\")\n",
    "\n",
    "\n",
    "class GoppaCodeGenerator:\n",
    "\n",
    "    def __init__(self, m, n, t):\n",
    "        self.m = m\n",
    "        self.n = n\n",
    "        self.t = t\n",
    "        self.q = 2\n",
    "        log.info(f\"GoppaCodeGenerator(m={self.m},n={self.n},t={self.t},q={self.q},q^m={self.q ** self.m}) initiated\")\n",
    "\n",
    "    def gen(self):\n",
    "        print(alpha)\n",
    "        irr_poly = Poly(alpha ** self.m + alpha + 1, alpha).set_domain(GF(self.q))\n",
    "        if is_irreducible_poly(irr_poly, self.q):\n",
    "            ring = power_dict(self.q ** self.m, irr_poly, self.q)\n",
    "        else:\n",
    "            ring = []\n",
    "        log.info(\"irr(q_size: {}): {}\".format(len(ring), irr_poly))\n",
    "        while len(ring) < self.q ** self.m - 1:\n",
    "            irr_poly = irreducible_poly(self.m, self.q, alpha)\n",
    "            ring = power_dict(self.q ** self.m, irr_poly, self.q)\n",
    "            log.info(\"irr(q_size: {}): {}\".format(len(ring), irr_poly))\n",
    "\n",
    "        log.debug(f\"ring={ring}\")\n",
    "        g_poly = Poly(1, x)\n",
    "\n",
    "        roots_num = max(0, self.q ** self.m - self.n - self.t)\n",
    "\n",
    "        #g_roots = np.random.choice(range(self.q ** self.m - 1), roots_num, replace=False)\n",
    "        g_roots = set()\n",
    "        g_non_roots = list(set(range(self.q ** self.m - 1)) - set(g_roots))\n",
    "\n",
    "        log.debug(f\"g_roots({len(g_roots)})={g_roots}\")\n",
    "        log.debug(f\"g_non_roots({len(g_non_roots)})={g_non_roots}\")\n",
    "\n",
    "        for i in g_roots:\n",
    "            g_poly = (g_poly * Poly(x + alpha ** i, x)).trunc(self.q)\n",
    "\n",
    "        if g_poly.degree() < self.t:\n",
    "            small_irr = None\n",
    "            for i in range(100):\n",
    "                small_irr = irreducible_poly_ext_candidate(self.t - g_poly.degree(), irr_poly, self.q, x, non_roots=g_non_roots)\n",
    "                log.debug(f\"irr_part_of_g={small_irr}\")\n",
    "                if small_irr.eval(0).is_zero or small_irr.eval(1).is_zero:\n",
    "                    log.debug(f'roots in trivial case 0:{small_irr.eval(0)} 1:{small_irr.eval(1)}')\n",
    "                    continue\n",
    "                first_root = first_alpha_power_root(small_irr, irr_poly, self.q)\n",
    "                if first_root > 0:\n",
    "                    log.debug(f\"alpha^{first_root} is a root of g(x)={small_irr}\")\n",
    "                    continue\n",
    "                break\n",
    "            else:\n",
    "                raise Exception(\"irr poly not found\")\n",
    "            g_poly = (g_poly * small_irr).trunc(self.q)\n",
    "\n",
    "        g_poly = reduce_to_alpha_power(g_poly, irr_poly, ring, self.q)\n",
    "        log.info(f\"g(x)={g_poly}\")\n",
    "        coeffs = g_poly.all_coeffs()\n",
    "\n",
    "        first_root = first_alpha_power_root(g_poly, irr_poly, self.q, elements_to_check=g_non_roots)\n",
    "        if first_root > 0:\n",
    "            raise Exception(f\"alpha^{first_root} is a root of g(x)={g_poly}\")\n",
    "\n",
    "        C = Matrix(self.t, self.t, lambda i, j: coeffs[j - i] if 0 <= j - i < self.t else 0)\n",
    "        log.debug(f\"C={C}\")\n",
    "        X = Matrix(self.t, self.n, lambda i, j: (alpha ** ((j * (self.t - i - 1)) % self.n)))\n",
    "        log.debug(f\"X={X}\")\n",
    "        Y = Matrix(self.n, self.n,\n",
    "                   lambda i, j: get_alpha_power(g_poly.eval(alpha ** g_non_roots[i]), irr_poly, ring, self.q, neg=True)\n",
    "                   if i == j else 0)\n",
    "        log.debug(f\"Y={Y}\")\n",
    "        H = C * X * Y\n",
    "        H = Matrix(self.t, self.n, lambda i, j: get_alpha_power(H[i, j], irr_poly, ring, self.q))\n",
    "        log.debug(f\"H=\\n{H}\")\n",
    "        H_bin = np.array(\n",
    "            [np.column_stack([get_binary_from_alpha(e, irr_poly, self.q) for e in line]) for line in\n",
    "             H.tolist()]).astype(GF2)\n",
    "        H_bin = GF2Matrix.from_list(H_bin.reshape(-1, H.shape[1]))\n",
    "        log.info(f\"H_bin=\\n{H_bin}\")\n",
    "        H_nullspace, nullity = H_bin.nullspace()\n",
    "        log.debug(f\"H_nullspace({nullity})=\\n{H_nullspace}\")\n",
    "        G = GF2Matrix(H_nullspace.T()[:nullity])\n",
    "        log.info(f\"G=\\n{G}\")\n",
    "        log.debug(f\"G*H^T=\\n{G * H_bin.T()}\")\n",
    "        return G, H_bin, g_poly, irr_poly"
   ]
  },
  {
   "cell_type": "code",
   "execution_count": 6,
   "metadata": {},
   "outputs": [
    {
     "ename": "TypeError",
     "evalue": "object of type 'Symbol' has no len()",
     "output_type": "error",
     "traceback": [
      "\u001b[1;31m---------------------------------------------------------------------------\u001b[0m",
      "\u001b[1;31mTypeError\u001b[0m                                 Traceback (most recent call last)",
      "\u001b[1;32m~\\AppData\\Local\\Temp\\ipykernel_79304\\545265771.py\u001b[0m in \u001b[0;36m<cell line: 5>\u001b[1;34m()\u001b[0m\n\u001b[0;32m      3\u001b[0m \u001b[0mt\u001b[0m \u001b[1;33m=\u001b[0m \u001b[1;36m1\u001b[0m\u001b[1;33m\u001b[0m\u001b[1;33m\u001b[0m\u001b[0m\n\u001b[0;32m      4\u001b[0m \u001b[1;33m\u001b[0m\u001b[0m\n\u001b[1;32m----> 5\u001b[1;33m \u001b[0mG\u001b[0m\u001b[1;33m,\u001b[0m \u001b[0mH\u001b[0m\u001b[1;33m,\u001b[0m \u001b[0mg_poly\u001b[0m\u001b[1;33m,\u001b[0m \u001b[0mirr_poly\u001b[0m \u001b[1;33m=\u001b[0m \u001b[0mGoppaCodeGenerator\u001b[0m\u001b[1;33m(\u001b[0m\u001b[0mm\u001b[0m\u001b[1;33m,\u001b[0m \u001b[0mn\u001b[0m\u001b[1;33m,\u001b[0m \u001b[0mt\u001b[0m\u001b[1;33m)\u001b[0m\u001b[1;33m.\u001b[0m\u001b[0mgen\u001b[0m\u001b[1;33m(\u001b[0m\u001b[1;33m)\u001b[0m\u001b[1;33m\u001b[0m\u001b[1;33m\u001b[0m\u001b[0m\n\u001b[0m\u001b[0;32m      6\u001b[0m g_poly = np.array([(Poly(e, alpha) % irr_poly).trunc(2).all_coeffs()[::-1] for e in\n\u001b[0;32m      7\u001b[0m                         self.g_poly.all_coeffs()[::-1]])\n",
      "\u001b[1;32m~\\AppData\\Local\\Temp\\ipykernel_79304\\881214786.py\u001b[0m in \u001b[0;36mgen\u001b[1;34m(self)\u001b[0m\n\u001b[0;32m     19\u001b[0m \u001b[1;33m\u001b[0m\u001b[0m\n\u001b[0;32m     20\u001b[0m     \u001b[1;32mdef\u001b[0m \u001b[0mgen\u001b[0m\u001b[1;33m(\u001b[0m\u001b[0mself\u001b[0m\u001b[1;33m)\u001b[0m\u001b[1;33m:\u001b[0m\u001b[1;33m\u001b[0m\u001b[1;33m\u001b[0m\u001b[0m\n\u001b[1;32m---> 21\u001b[1;33m         \u001b[0mirr_poly\u001b[0m \u001b[1;33m=\u001b[0m \u001b[0mPoly\u001b[0m\u001b[1;33m(\u001b[0m\u001b[0malpha\u001b[0m \u001b[1;33m**\u001b[0m \u001b[0mself\u001b[0m\u001b[1;33m.\u001b[0m\u001b[0mm\u001b[0m \u001b[1;33m+\u001b[0m \u001b[0malpha\u001b[0m \u001b[1;33m+\u001b[0m \u001b[1;36m1\u001b[0m\u001b[1;33m,\u001b[0m \u001b[0malpha\u001b[0m\u001b[1;33m)\u001b[0m\u001b[1;33m.\u001b[0m\u001b[0mset_domain\u001b[0m\u001b[1;33m(\u001b[0m\u001b[0mGF\u001b[0m\u001b[1;33m(\u001b[0m\u001b[0mself\u001b[0m\u001b[1;33m.\u001b[0m\u001b[0mq\u001b[0m\u001b[1;33m)\u001b[0m\u001b[1;33m)\u001b[0m\u001b[1;33m\u001b[0m\u001b[1;33m\u001b[0m\u001b[0m\n\u001b[0m\u001b[0;32m     22\u001b[0m         \u001b[1;32mif\u001b[0m \u001b[0mis_irreducible_poly\u001b[0m\u001b[1;33m(\u001b[0m\u001b[0mirr_poly\u001b[0m\u001b[1;33m,\u001b[0m \u001b[0mself\u001b[0m\u001b[1;33m.\u001b[0m\u001b[0mq\u001b[0m\u001b[1;33m)\u001b[0m\u001b[1;33m:\u001b[0m\u001b[1;33m\u001b[0m\u001b[1;33m\u001b[0m\u001b[0m\n\u001b[0;32m     23\u001b[0m             \u001b[0mring\u001b[0m \u001b[1;33m=\u001b[0m \u001b[0mpower_dict\u001b[0m\u001b[1;33m(\u001b[0m\u001b[0mself\u001b[0m\u001b[1;33m.\u001b[0m\u001b[0mq\u001b[0m \u001b[1;33m**\u001b[0m \u001b[0mself\u001b[0m\u001b[1;33m.\u001b[0m\u001b[0mm\u001b[0m\u001b[1;33m,\u001b[0m \u001b[0mirr_poly\u001b[0m\u001b[1;33m,\u001b[0m \u001b[0mself\u001b[0m\u001b[1;33m.\u001b[0m\u001b[0mq\u001b[0m\u001b[1;33m)\u001b[0m\u001b[1;33m\u001b[0m\u001b[1;33m\u001b[0m\u001b[0m\n",
      "\u001b[1;32m~\\AppData\\Local\\Temp\\ipykernel_79304\\3138895251.py\u001b[0m in \u001b[0;36m__init__\u001b[1;34m(self, n, T)\u001b[0m\n\u001b[0;32m     50\u001b[0m     \u001b[1;32mdef\u001b[0m \u001b[0m__init__\u001b[0m\u001b[1;33m(\u001b[0m\u001b[0mself\u001b[0m\u001b[1;33m,\u001b[0m \u001b[0mn\u001b[0m\u001b[1;33m:\u001b[0m\u001b[0mint\u001b[0m\u001b[1;33m,\u001b[0m \u001b[0mT\u001b[0m\u001b[1;33m:\u001b[0m\u001b[0mnp\u001b[0m\u001b[1;33m.\u001b[0m\u001b[0mndarray\u001b[0m\u001b[1;33m)\u001b[0m\u001b[1;33m:\u001b[0m\u001b[1;33m\u001b[0m\u001b[1;33m\u001b[0m\u001b[0m\n\u001b[0;32m     51\u001b[0m         \u001b[0mself\u001b[0m\u001b[1;33m.\u001b[0m\u001b[0mn\u001b[0m \u001b[1;33m=\u001b[0m \u001b[0mn\u001b[0m\u001b[1;33m\u001b[0m\u001b[1;33m\u001b[0m\u001b[0m\n\u001b[1;32m---> 52\u001b[1;33m         \u001b[1;32mif\u001b[0m \u001b[0mlen\u001b[0m\u001b[1;33m(\u001b[0m\u001b[0mT\u001b[0m\u001b[1;33m)\u001b[0m \u001b[1;33m>\u001b[0m \u001b[0mn\u001b[0m\u001b[1;33m:\u001b[0m\u001b[1;33m\u001b[0m\u001b[1;33m\u001b[0m\u001b[0m\n\u001b[0m\u001b[0;32m     53\u001b[0m             \u001b[1;32mfor\u001b[0m \u001b[0mi\u001b[0m \u001b[1;32min\u001b[0m \u001b[0mrange\u001b[0m\u001b[1;33m(\u001b[0m\u001b[0mn\u001b[0m\u001b[1;33m,\u001b[0m \u001b[0mlen\u001b[0m\u001b[1;33m(\u001b[0m\u001b[0mT\u001b[0m\u001b[1;33m)\u001b[0m\u001b[1;33m)\u001b[0m\u001b[1;33m:\u001b[0m\u001b[1;33m\u001b[0m\u001b[1;33m\u001b[0m\u001b[0m\n\u001b[0;32m     54\u001b[0m                 \u001b[0mT\u001b[0m\u001b[1;33m[\u001b[0m\u001b[0mi\u001b[0m \u001b[1;33m%\u001b[0m \u001b[0mn\u001b[0m\u001b[1;33m]\u001b[0m \u001b[1;33m+=\u001b[0m \u001b[0mT\u001b[0m\u001b[1;33m[\u001b[0m\u001b[0mi\u001b[0m\u001b[1;33m]\u001b[0m\u001b[1;33m\u001b[0m\u001b[1;33m\u001b[0m\u001b[0m\n",
      "\u001b[1;31mTypeError\u001b[0m: object of type 'Symbol' has no len()"
     ]
    }
   ],
   "source": [
    "m = 12\n",
    "n = 10\n",
    "t = 1\n",
    "\n",
    "G, H, g_poly, irr_poly = GoppaCodeGenerator(m, n, t).gen()\n",
    "g_poly = np.array([(Poly(e, alpha) % irr_poly).trunc(2).all_coeffs()[::-1] for e in\n",
    "                        self.g_poly.all_coeffs()[::-1]])\n",
    "irr_poly = np.array(irr_poly.all_coeffs()[::-1])\n",
    "k = G.arr.shape[0]\n",
    "P = GF2Matrix.from_list(random_perm_matrix(n))\n",
    "P_inv = P.inv()\n",
    "S = GF2Matrix.from_list(random_inv_matrix(k))\n",
    "S_inv = S.inv()\n",
    "Gp = S * G * P"
   ]
  },
  {
   "cell_type": "markdown",
   "metadata": {
    "vscode": {
     "languageId": "plaintext"
    }
   },
   "source": [
    "# Enkapsulacja kluczy"
   ]
  },
  {
   "cell_type": "code",
   "execution_count": null,
   "metadata": {},
   "outputs": [],
   "source": []
  },
  {
   "cell_type": "markdown",
   "metadata": {
    "vscode": {
     "languageId": "plaintext"
    }
   },
   "source": [
    "# Dekapsulacja klucza"
   ]
  },
  {
   "cell_type": "code",
   "execution_count": null,
   "metadata": {},
   "outputs": [],
   "source": []
  }
 ],
 "metadata": {
  "kernelspec": {
   "display_name": "Python 3 (ipykernel)",
   "language": "python",
   "name": "python3"
  },
  "language_info": {
   "codemirror_mode": {
    "name": "ipython",
    "version": 3
   },
   "file_extension": ".py",
   "mimetype": "text/x-python",
   "name": "python",
   "nbconvert_exporter": "python",
   "pygments_lexer": "ipython3",
   "version": "3.10.9"
  }
 },
 "nbformat": 4,
 "nbformat_minor": 2
}
