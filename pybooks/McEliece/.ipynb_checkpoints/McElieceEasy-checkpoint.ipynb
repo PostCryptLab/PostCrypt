{
 "cells": [
  {
   "cell_type": "markdown",
   "metadata": {},
   "source": [
    "## Czym jest kod korekcyjny?\n",
    "Kody korekcyjne są to techniki stosowane w dziedzinie transmisji danych oraz przechowywania informacji, które umożliwiają wykrywanie i poprawianie błędów powstających podczas przesyłania lub przechowywania danych. Ich głównym celem jest zapewnienie integralności danych, czyli gwarancja, że informacje dotrą do odbiorcy w niezmienionej formie mimo zakłóceń w kanale transmisji.\n",
    "\n",
    "## Jak działają kody korekcyjne?\n",
    "Gdy przesyłamy informacje przez kanały, które nie dają pewności poprawnej transmisji danych, musimy mieć możliwość wykrycia i ewentualnie skorygowania błędów. Kody korekcyjne działają na zasadzie dodawania nadmiarowych informacji do oryginalnych danych. Te dodatkowe dane pozwalają na wykrycie i często także na korekcję błędów, które mogły wystąpić podczas transmisji.\n",
    "\n",
    "## Gdzie używa się kodów korekcyjnych?\n",
    "kody korekcyjne mają różne zasstowania od transmisji danych poprzez przechowywanie danych aż do kryptografji kttóra to jest głównym tematem którym się tu zajmiemy"
   ]
  }
 ],
 "metadata": {
  "kernelspec": {
   "display_name": "Python 3 (ipykernel)",
   "language": "python",
   "name": "python3"
  },
  "language_info": {
   "codemirror_mode": {
    "name": "ipython",
    "version": 3
   },
   "file_extension": ".py",
   "mimetype": "text/x-python",
   "name": "python",
   "nbconvert_exporter": "python",
   "pygments_lexer": "ipython3",
   "version": "3.10.9"
  }
 },
 "nbformat": 4,
 "nbformat_minor": 2
}
